{
 "cells": [
  {
   "cell_type": "code",
   "execution_count": 2,
   "metadata": {
    "collapsed": true
   },
   "outputs": [],
   "source": [
    "import requests as r\n",
    "import urllib\n",
    "import json\n",
    "import os"
   ]
  },
  {
   "cell_type": "code",
   "execution_count": 3,
   "metadata": {
    "collapsed": false
   },
   "outputs": [
    {
     "name": "stdout",
     "output_type": "stream",
     "text": [
      "java+vs+c%2B%2B\n"
     ]
    }
   ],
   "source": [
    "print urllib.quote_plus(\"java vs c++\")"
   ]
  },
  {
   "cell_type": "code",
   "execution_count": 6,
   "metadata": {
    "collapsed": true
   },
   "outputs": [],
   "source": [
    "url = \"https://api.flickr.com/services/rest/\"\n",
    "\n",
    "args=dict() # parameters to pass to flickr rest api\n",
    "args['method'] = 'flickr.photos.search'\n",
    "args['sort'] = 'relevance'\n",
    "args['safe_search'] = 1\n",
    "args['content_type'] = 7\n",
    "args['media'] = 'photos'\n",
    "args['extras'] = 'url_n'\n",
    "args['per_page'] = 5\n",
    "args['page'] = 1\n",
    "args['format']='json'\n",
    "args['jsoncallback'] = 1\n",
    "args['tag_mode'] = 'AND'"
   ]
  },
  {
   "cell_type": "code",
   "execution_count": 9,
   "metadata": {
    "collapsed": false
   },
   "outputs": [
    {
     "name": "stdout",
     "output_type": "stream",
     "text": [
      "True\n",
      "200\n"
     ]
    }
   ],
   "source": [
    "args['tags'] = 'parrot bird'\n",
    "args['api_key'] =  os.environ['FLICKR_API_KEY']\n",
    "\n",
    "o = r.get(url, args)\n",
    "print o.ok\n",
    "print o.status_code"
   ]
  },
  {
   "cell_type": "code",
   "execution_count": 10,
   "metadata": {
    "collapsed": false
   },
   "outputs": [
    {
     "data": {
      "text/plain": [
       "u'{\"photos\":{\"page\":1,\"pages\":8,\"perpage\":5,\"total\":\"37\",\"photo\":[{\"id\":\"24178997951\",\"owner\":\"67627528@N04\",\"secret\":\"7eda242136\",\"server\":\"1528\",\"farm\":2,\"title\":\"the nectar hunters - rainbow lorikeet in the eurodia tree\",\"ispublic\":1,\"isfriend\":0,\"isfamily\":0,\"url_n\":\"https:\\\\/\\\\/farm2.staticflickr.com\\\\/1528\\\\/24178997951_7eda242136_n.jpg\",\"height_n\":320,\"width_n\":\"320\"},{\"id\":\"16219445840\",\"owner\":\"67627528@N04\",\"secret\":\"bc8396fda2\",\"server\":\"7301\",\"farm\":8,\"title\":\"the nut crackers - rainbow lorikeet\",\"ispublic\":1,\"isfriend\":0,\"isfamily\":0,\"url_n\":\"https:\\\\/\\\\/farm8.staticflickr.com\\\\/7301\\\\/16219445840_bc8396fda2_n.jpg\",\"height_n\":240,\"width_n\":\"320\"},{\"id\":\"8648912075\",\"owner\":\"9852588@N07\",\"secret\":\"6b1c8c5656\",\"server\":\"8245\",\"farm\":9,\"title\":\"You talking to me!\",\"ispublic\":1,\"isfriend\":0,\"isfamily\":0,\"url_n\":\"https:\\\\/\\\\/farm9.staticflickr.com\\\\/8245\\\\/8648912075_6b1c8c5656_n.jpg\",\"height_n\":\"320\",\"width_n\":213},{\"id\":\"7915365408\",\"owner\":\"47862503@N05\",\"secret\":\"143642671b\",\"server\":\"8314\",\"farm\":9,\"title\":\"Parrot\",\"ispublic\":1,\"isfriend\":0,\"isfamily\":0,\"url_n\":\"https:\\\\/\\\\/farm9.staticflickr.com\\\\/8314\\\\/7915365408_143642671b_n.jpg\",\"height_n\":\"320\",\"width_n\":293},{\"id\":\"7012147215\",\"owner\":\"28238663@N02\",\"secret\":\"636f13eab6\",\"server\":\"7096\",\"farm\":8,\"title\":\"Silver Springs Park FL (1 Feb 2012) 183\",\"ispublic\":1,\"isfriend\":0,\"isfamily\":0,\"url_n\":\"https:\\\\/\\\\/farm8.staticflickr.com\\\\/7096\\\\/7012147215_636f13eab6_n.jpg\",\"height_n\":212,\"width_n\":\"320\"}]},\"stat\":\"ok\"}'"
      ]
     },
     "execution_count": 10,
     "metadata": {},
     "output_type": "execute_result"
    }
   ],
   "source": [
    "text = o.text\n",
    "text = text[2:-1] # remove round bracket for json parsing\n",
    "text"
   ]
  },
  {
   "cell_type": "code",
   "execution_count": 12,
   "metadata": {
    "collapsed": false
   },
   "outputs": [
    {
     "data": {
      "text/plain": [
       "{u'photos': {u'page': 1,\n",
       "  u'pages': 8,\n",
       "  u'perpage': 5,\n",
       "  u'photo': [{u'farm': 2,\n",
       "    u'height_n': 320,\n",
       "    u'id': u'24178997951',\n",
       "    u'isfamily': 0,\n",
       "    u'isfriend': 0,\n",
       "    u'ispublic': 1,\n",
       "    u'owner': u'67627528@N04',\n",
       "    u'secret': u'7eda242136',\n",
       "    u'server': u'1528',\n",
       "    u'title': u'the nectar hunters - rainbow lorikeet in the eurodia tree',\n",
       "    u'url_n': u'https://farm2.staticflickr.com/1528/24178997951_7eda242136_n.jpg',\n",
       "    u'width_n': u'320'},\n",
       "   {u'farm': 8,\n",
       "    u'height_n': 240,\n",
       "    u'id': u'16219445840',\n",
       "    u'isfamily': 0,\n",
       "    u'isfriend': 0,\n",
       "    u'ispublic': 1,\n",
       "    u'owner': u'67627528@N04',\n",
       "    u'secret': u'bc8396fda2',\n",
       "    u'server': u'7301',\n",
       "    u'title': u'the nut crackers - rainbow lorikeet',\n",
       "    u'url_n': u'https://farm8.staticflickr.com/7301/16219445840_bc8396fda2_n.jpg',\n",
       "    u'width_n': u'320'},\n",
       "   {u'farm': 9,\n",
       "    u'height_n': u'320',\n",
       "    u'id': u'8648912075',\n",
       "    u'isfamily': 0,\n",
       "    u'isfriend': 0,\n",
       "    u'ispublic': 1,\n",
       "    u'owner': u'9852588@N07',\n",
       "    u'secret': u'6b1c8c5656',\n",
       "    u'server': u'8245',\n",
       "    u'title': u'You talking to me!',\n",
       "    u'url_n': u'https://farm9.staticflickr.com/8245/8648912075_6b1c8c5656_n.jpg',\n",
       "    u'width_n': 213},\n",
       "   {u'farm': 9,\n",
       "    u'height_n': u'320',\n",
       "    u'id': u'7915365408',\n",
       "    u'isfamily': 0,\n",
       "    u'isfriend': 0,\n",
       "    u'ispublic': 1,\n",
       "    u'owner': u'47862503@N05',\n",
       "    u'secret': u'143642671b',\n",
       "    u'server': u'8314',\n",
       "    u'title': u'Parrot',\n",
       "    u'url_n': u'https://farm9.staticflickr.com/8314/7915365408_143642671b_n.jpg',\n",
       "    u'width_n': 293},\n",
       "   {u'farm': 8,\n",
       "    u'height_n': 212,\n",
       "    u'id': u'7012147215',\n",
       "    u'isfamily': 0,\n",
       "    u'isfriend': 0,\n",
       "    u'ispublic': 1,\n",
       "    u'owner': u'28238663@N02',\n",
       "    u'secret': u'636f13eab6',\n",
       "    u'server': u'7096',\n",
       "    u'title': u'Silver Springs Park FL (1 Feb 2012) 183',\n",
       "    u'url_n': u'https://farm8.staticflickr.com/7096/7012147215_636f13eab6_n.jpg',\n",
       "    u'width_n': u'320'}],\n",
       "  u'total': u'37'},\n",
       " u'stat': u'ok'}"
      ]
     },
     "execution_count": 12,
     "metadata": {},
     "output_type": "execute_result"
    }
   ],
   "source": [
    "json.loads(text)"
   ]
  }
 ],
 "metadata": {
  "kernelspec": {
   "display_name": "Python 2",
   "language": "python",
   "name": "python2"
  },
  "language_info": {
   "codemirror_mode": {
    "name": "ipython",
    "version": 2
   },
   "file_extension": ".py",
   "mimetype": "text/x-python",
   "name": "python",
   "nbconvert_exporter": "python",
   "pygments_lexer": "ipython2",
   "version": "2.7.11"
  }
 },
 "nbformat": 4,
 "nbformat_minor": 0
}
