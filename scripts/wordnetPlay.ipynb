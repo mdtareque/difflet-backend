{
 "cells": [
  {
   "cell_type": "code",
   "execution_count": 3,
   "metadata": {
    "collapsed": false
   },
   "outputs": [],
   "source": [
    "import nltk\n",
    "from nltk.corpus import brown\n",
    "from nltk.corpus import wordnet\n",
    "from nltk.corpus import wordnet as w"
   ]
  },
  {
   "cell_type": "code",
   "execution_count": 4,
   "metadata": {
    "collapsed": false
   },
   "outputs": [
    {
     "data": {
      "text/plain": [
       "[u'The', u'Fulton', u'County', u'Grand', u'Jury', ...]"
      ]
     },
     "execution_count": 4,
     "metadata": {},
     "output_type": "execute_result"
    }
   ],
   "source": [
    "brown.words() # just test that nltk corpus is downloaded, by printing some small corpus"
   ]
  },
  {
   "cell_type": "code",
   "execution_count": 11,
   "metadata": {
    "collapsed": false
   },
   "outputs": [
    {
     "name": "stdout",
     "output_type": "stream",
     "text": [
      "Synset('plan.n.01')\ta series of steps to be carried out or goals to be accomplished\n",
      "Synset('design.n.02')\tan arrangement scheme\n",
      "Synset('plan.n.03')\tscale drawing of a structure\n",
      "Synset('plan.v.01')\thave the will and intention to carry out some action\n",
      "Synset('plan.v.02')\tmake plans for something\n",
      "Synset('plan.v.03')\tmake or work out a plan for; devise\n",
      "Synset('design.v.04')\tmake a design of; plan out in systematic, often graphic form\n"
     ]
    }
   ],
   "source": [
    "s = w.synsets('plan')\n",
    "for a in s:\n",
    "    print \"{}\\t{}\".format(a,a.definition())"
   ]
  },
  {
   "cell_type": "code",
   "execution_count": 19,
   "metadata": {
    "collapsed": false
   },
   "outputs": [
    {
     "name": "stdout",
     "output_type": "stream",
     "text": [
      "set([u'beneficial', u'right', u'secure', u'just', u'unspoilt', u'respectable', u'good', u'goodness', u'dear', u'salutary', u'ripe', u'expert', u'skillful', u'in_force', u'proficient', u'unspoiled', u'dependable', u'soundly', u'honorable', u'full', u'undecomposed', u'safe', u'adept', u'upright', u'trade_good', u'sound', u'in_effect', u'practiced', u'effective', u'commodity', u'estimable', u'well', u'honest', u'near', u'skilful', u'thoroughly', u'serious'])\n",
      "\n",
      "set([u'bad', u'badness', u'ill', u'evil', u'evilness'])\n"
     ]
    }
   ],
   "source": [
    "''' synonyms and antonyms '''\n",
    "synonyms = []\n",
    "antonyms = []\n",
    "for syn in wordnet.synsets(\"good\"):\n",
    "    for l in syn.lemmas():\n",
    "        synonyms.append(l.name())\n",
    "        if l.antonyms():\n",
    "            antonyms.append(l.antonyms()[0].name())\n",
    "            \n",
    "print(set(synonyms))\n",
    "print \n",
    "print(set(antonyms))"
   ]
  },
  {
   "cell_type": "code",
   "execution_count": 24,
   "metadata": {
    "collapsed": false
   },
   "outputs": [
    {
     "name": "stdout",
     "output_type": "stream",
     "text": [
      "[Lemma('plan.n.01.plan'), Lemma('plan.n.01.program'), Lemma('plan.n.01.programme')]\n"
     ]
    }
   ],
   "source": [
    "s = w.synsets('plan')\n",
    "print s[0].lemmas()"
   ]
  },
  {
   "cell_type": "code",
   "execution_count": 85,
   "metadata": {
    "collapsed": false
   },
   "outputs": [],
   "source": [
    "\"\"\" Similarity between two words \n",
    "Threshold decided manually, can be tweaked after discussion\n",
    "\"\"\"\n",
    "def similarity(a, b):\n",
    "    suf=\".n.01\"\n",
    "    a, b = a+suf, b+suf\n",
    "    w1 = wordnet.synset(a)\n",
    "    w2 = wordnet.synset(b)\n",
    "    sim = w1.wup_similarity(w2)\n",
    "    #print sim,\n",
    "    output=\"\"\n",
    "    if sim >= 0.85:\n",
    "        output=\"Very similar\"\n",
    "    elif sim >= 0.65:\n",
    "        output=\"Little similar\"\n",
    "    else:\n",
    "        output=\"Not similar\"\n",
    "    print 'similarity({:>15}, {:15}) = {:<15} ==> {} '.format(a[:a.find('.')],b[:b.find('.')], sim, output) \n"
   ]
  },
  {
   "cell_type": "code",
   "execution_count": 92,
   "metadata": {
    "collapsed": false
   },
   "outputs": [
    {
     "name": "stdout",
     "output_type": "stream",
     "text": [
      "\n",
      "similarity(        sparrow, parrot         ) = 0.869565217391  ==> Very similar \n",
      "similarity(           ship, boat           ) = 0.909090909091  ==> Very similar \n",
      "\n",
      "similarity(            cat, elephant       ) = 0.814814814815  ==> Little similar \n",
      "\n",
      "similarity(        dolphin, ship           ) = 0.296296296296  ==> Not similar \n",
      "similarity(        giraffe, tiger          ) = 0.521739130435  ==> Not similar \n",
      "similarity(          sheep, ship           ) = 0.296296296296  ==> Not similar \n",
      "similarity(           ship, cat            ) = 0.32            ==> Not similar \n"
     ]
    }
   ],
   "source": [
    "sim = similarity\n",
    "# very similar\n",
    "print\n",
    "sim(\"sparrow\", \"parrot\")\n",
    "sim(\"ship\", \"boat\")\n",
    "\n",
    "# little similar\n",
    "print\n",
    "sim(\"cat\", \"elephant\")\n",
    "\n",
    "\n",
    "# not similar\n",
    "print\n",
    "sim(\"dolphin\", \"ship\")\n",
    "sim(\"giraffe\", \"tiger\")\n",
    "sim(\"sheep\", \"ship\")\n",
    "sim(\"ship\", \"cat\")"
   ]
  },
  {
   "cell_type": "code",
   "execution_count": 108,
   "metadata": {
    "collapsed": false
   },
   "outputs": [
    {
     "name": "stdout",
     "output_type": "stream",
     "text": [
      "similarity(          cobra, animal         ) = 0.666666666667  ==> Little similar \n",
      "similarity(          ocean, river          ) = 0.727272727273  ==> Little similar \n",
      "similarity(           nose, ear            ) = 0.823529411765  ==> Little similar \n",
      "similarity(         female, male           ) = 0.875           ==> Very similar \n",
      "similarity(         forest, tree           ) = 0.125           ==> Not similar \n",
      "similarity(         banana, mango          ) = 0.695652173913  ==> Little similar \n",
      "similarity(          cobra, snake          ) = 0.923076923077  ==> Very similar \n"
     ]
    }
   ],
   "source": [
    "# few more\n",
    "s = similarity\n",
    "s(\"cobra\", \"animal\")\n",
    "s(\"ocean\", \"river\")\n",
    "s(\"nose\", \"ear\")\n",
    "s(\"female\", \"male\")\n",
    "s(\"forest\", \"tree\")\n",
    "s(\"banana\", \"mango\")\n",
    "s(\"cobra\", \"snake\")\n"
   ]
  }
 ],
 "metadata": {
  "kernelspec": {
   "display_name": "Python 2",
   "language": "python",
   "name": "python2"
  },
  "language_info": {
   "codemirror_mode": {
    "name": "ipython",
    "version": 2
   },
   "file_extension": ".py",
   "mimetype": "text/x-python",
   "name": "python",
   "nbconvert_exporter": "python",
   "pygments_lexer": "ipython2",
   "version": "2.7.11"
  }
 },
 "nbformat": 4,
 "nbformat_minor": 0
}
